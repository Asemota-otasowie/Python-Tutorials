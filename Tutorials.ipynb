{
 "cells": [
  {
   "cell_type": "code",
   "execution_count": null,
   "id": "3197217f",
   "metadata": {},
   "outputs": [],
   "source": [
    "# PYTHON DATA TYPES\n",
    "\n",
    "#Numbers\n",
    "Numbers age=25, population = 10,000\n",
    "Floats Price = 19.9, temperature = 98.6\n",
    "Complex numbers = 3+4j\n",
    "\n",
    "#Strings\n",
    "name = \"John Doe\"\n",
    "message= \"Hello, world!\"\n",
    "\n",
    "#String operations\n",
    "full_name = \"john\" + \"\" + \"Doe\"\n",
    "repeated = \"Ha\"* 3 #HaHaHa\n",
    "length = len(python) #6\n",
    "\n",
    "#String methods\n",
    "text = \"python programming\"\n",
    "print(text.strip())  #\"Python Programming\"\n",
    "print(text.upper())  #\"PYTHON PROGRAMMING\"\n",
    "print(text.replace(\"python\", \"java\"))   #\"Java programming\"\n",
    "\n",
    "#Boolean Operations\n",
    "True = 1\n",
    "false = 0\n",
    "result = True and False  #false\n",
    "result = True or False  #True\n",
    "result = not true     #false\n",
    "\n",
    "#None Type\n",
    "#Represents absence of a value\n",
    "data= None if data is none: print (\"no data available\")\n",
    "\n",
    "#NB 25/5 = 5.0 \n",
    "    25/6 = 4.66  #Float single division\n",
    "\n",
    "    25//5 = 5\n",
    "\n",
    "    25//5= 4    #Floats double division"
   ]
  },
  {
   "cell_type": "markdown",
   "id": "5b3413ca",
   "metadata": {},
   "source": []
  },
  {
   "cell_type": "code",
   "execution_count": null,
   "id": "15c88add",
   "metadata": {},
   "outputs": [
    {
     "name": "stdout",
     "output_type": "stream",
     "text": [
      "True\n",
      "['strawberry', 'banana', 'orange', 'mango', 'pineapple', ['mango', 'pineapple']]\n"
     ]
    }
   ],
   "source": [
    "# DATA STRUCTURES\n",
    "\n",
    "#Lists- Ordered, multable collections\n",
    "\n",
    "fruits = [\"apple\", \"banana\", \"orange\"]\n",
    "numbers = [1,2,3,4,5]\n",
    "mixed=[1, \"hello\", 2, 3.14, True]\n",
    "\n",
    "#Accessing list\n",
    "first_fruit = fruits[0]     #apple\n",
    "last_fruit = fruits[-1]     #orange\n",
    "middle_fruits= fruits[1] or fruits[-2]  #banana\n",
    "\n",
    "#Addition and subraction from a list \n",
    "\n",
    "#additions\n",
    "fruits.extend([\"mango\",\"pineapple\"])        #[\"apple\", \"banana\", \"orange\",\"mango\", \"pinapple\"]\n",
    "\n",
    "fruits.append ([\"mango\",\"pineapple\"])       # [\"apple\", \"banana\", \"orange\", [\"mango\", \"pineapple\"]]\n",
    "fruits[0]= \"strawberry\"\n",
    "\n",
    "fruits[0].split()\n",
    "#List operations\n",
    "length= len(fruits)\n",
    "\n",
    "is_strawberry_there = \"strawberry\" in fruits\n",
    "print (is_strawberry_there)\n",
    "print(fruits)\n",
    "\n",
    "#Use list when you want to make corrections to your data and also create duplicates."
   ]
  },
  {
   "cell_type": "code",
   "execution_count": null,
   "id": "4792f4b9",
   "metadata": {},
   "outputs": [
    {
     "name": "stdout",
     "output_type": "stream",
     "text": [
      "name:Anita\n",
      "age:21\n",
      "city:New york\n",
      "email:Anitaemma@email.com\n"
     ]
    }
   ],
   "source": [
    "#Dictionaries - key pair values\n",
    "\n",
    "#creating doctionaries\n",
    "person={\n",
    "    \"name\": \"Anita\",\n",
    "    \"age\": 23,\n",
    "    \"city\": \"New york\",\n",
    "    \"employed\": True}\n",
    "\n",
    "#Accessing dictionaries\n",
    "name= person[\"name\"]\n",
    "age = person.get(\"age\", 0)\n",
    "del person[\"employed\"]\n",
    "\n",
    "#Modifying dictionaries\n",
    "keys= person.keys()\n",
    "values= person.values()\n",
    "items = person.items()\n",
    "\n",
    "#Addition to a dictionary\n",
    "person[\"email\"]= \"Anitaemma@email.com\"\n",
    "person[\"age\"]= 21\n",
    "\n",
    "#Looping through dictionaries\n",
    "for key, value in person.items (): print(f\"{key}:{value}\")\n",
    "\n",
    "#print(keys)\n",
    "#print(values)\n",
    "#print(items)\n",
    "# Use dictionaries when you want to map out key to values, structured data or require fast lookups"
   ]
  },
  {
   "cell_type": "code",
   "execution_count": 52,
   "id": "0d70b3ce",
   "metadata": {},
   "outputs": [
    {
     "name": "stdout",
     "output_type": "stream",
     "text": [
      "[10, 15, 18, 20, 24, 30, 90, 100]\n"
     ]
    }
   ],
   "source": [
    "#Tuples - Ordered, unchangeable\n",
    "\n",
    "#Creating tuples\n",
    "cool = (10,20,30)\n",
    "colour=(\"red\", \"yellow\", \"blue\")\n",
    "single= (42)\n",
    "\n",
    "#Accessing elements\n",
    "x= cool[0]\n",
    "y=cool[1]\n",
    "z=cool[2]\n",
    "\n",
    "#cool[0]= 15     #Error because tuples are unassignable and unchangable after creation\n",
    "\n",
    "# use tuples when you need an ordered collection that shouldnt change for database records and to ensure data integrity\n",
    "\n",
    "new = colour + (\"black\", \"white\", \"orange\")\n",
    "\n",
    "back = cool + (100, 15, 18, 90, 24)\n",
    "\n",
    "sort = sorted (back)\n",
    "print (sort)"
   ]
  },
  {
   "cell_type": "code",
   "execution_count": null,
   "id": "6deb229a",
   "metadata": {},
   "outputs": [
    {
     "name": "stdout",
     "output_type": "stream",
     "text": [
      "{1, 2, 3, 4, 5, 7, 9}\n",
      "{2, 4, 5}\n",
      "{9, 7}\n",
      "{1, 3}\n"
     ]
    }
   ],
   "source": [
    "#Sets - unordered, unique collections\n",
    "\n",
    "unique= {1,2,3,4,5,6}\n",
    "colours= set([\"red\",\"yellow\",\"green\",\"black\",\"orange\",\"blue\", \"blue\",\"black\"])\n",
    "\n",
    "#Set operations\n",
    "colours.add(\"violet\")\n",
    "colours.remove(\"blue\")  #causes error if the element is not on the list\n",
    "colours.discard(\"green\")    # causes no error even if the element is not on the list\n",
    "\n",
    "#Set mathematics\n",
    "check= \"yellow\" in colours\n",
    "\n",
    "set_1 = {1,2,3,4,5}\n",
    "set_2 = {2,4,5,7,9}\n",
    "\n",
    "#Unions\n",
    "union= set_1| set_2  # removes duplicates and carries unique values \n",
    "intersection= set_1 & set_2 # Collects values unique to both sets only\n",
    "difference = set_2 - set_1  # Collects those values with no similarites with the other set, depending on what set comes first\n",
    "difference2 = set_1 - set_2 \n",
    "\n",
    "\n",
    "print(union)\n",
    "print (intersection)\n",
    "print(difference)\n",
    "print(difference2)\n",
    "\n",
    "# When you need to store unique items only, when you are performing mathematical set operations"
   ]
  },
  {
   "cell_type": "code",
   "execution_count": 4,
   "id": "75b0ecf8",
   "metadata": {},
   "outputs": [
    {
     "name": "stdout",
     "output_type": "stream",
     "text": [
      "Daily sales report\n",
      "===================\n",
      "coffee:10 sold at $3.0 each = $30.0\n",
      "tea:5 sold at $2.5 each = $12.5\n",
      "sandwich:3 sold at $5.0 each = $15.0\n",
      "==================\n",
      "Total_revenue: $57.5\n",
      "Total_items sold: 18\n",
      "=================\n",
      "All available items:\n",
      "coffee: $3.0\n",
      "tea: $2.5\n",
      "sandwich: $5.0\n"
     ]
    }
   ],
   "source": [
    "#SALES TRACKER USING DATA TYPES, DATA STRUCTURES, LOOPS AND F\" STRING\n",
    "\n",
    "item_prices= {\n",
    "    \"coffee\":3.00,\n",
    "    \"tea\":2.50,\n",
    "    \"sandwich\": 5.00\n",
    "}\n",
    "sales_today=[(\"coffee\", 10), (\"tea\", 5), (\"sandwich\", 3)]\n",
    "\n",
    "print(\"Daily sales report\")\n",
    "print(\"===================\")\n",
    "\n",
    "\n",
    "for item, quantity in sales_today:\n",
    "    price=item_prices[item]\n",
    "    total= price * quantity\n",
    "    print(f\"{item}:{quantity} sold at ${price} each = ${total}\")\n",
    "\n",
    "print(\"==================\")\n",
    "\n",
    "total_revenue= 0\n",
    "for item, quantity in sales_today:\n",
    "    price= item_prices[item]\n",
    "    total_revenue= total_revenue +(price * quantity)\n",
    "\n",
    "print(f\"Total_revenue: ${total_revenue}\")\n",
    "\n",
    "total_items= 0\n",
    "for item, quantity in sales_today:\n",
    "    total_items= total_items + quantity\n",
    "print(f\"Total_items sold: {total_items}\")\n",
    "\n",
    "print(\"=================\")\n",
    "\n",
    "\n",
    "print(\"All available items:\")\n",
    "for items, price in item_prices.items():\n",
    "    print(f\"{items}: ${price}\")\n",
    "\n"
   ]
  },
  {
   "cell_type": "code",
   "execution_count": null,
   "id": "88f5bbcc",
   "metadata": {},
   "outputs": [
    {
     "name": "stdout",
     "output_type": "stream",
     "text": [
      "Burger: at $5.99 was sold \n",
      "Chips: at $3.76 was sold \n",
      "Turkey: at $1.09 was sold \n",
      "Noodles: at $6.85 was sold \n"
     ]
    }
   ],
   "source": [
    "#Practing loops and f string\n",
    "\n",
    "Eatery= { \n",
    "    \"Burger\": 5.99,\n",
    "    \"Chips\": 3.76,\n",
    "    \"Turkey\": 1.09,\n",
    "    \"Noodles\": 6.85 \n",
    "}\n",
    "\n",
    "Sales= [(\"Burger\"), (\"Chips\"), (\"Turkey\"), (\"Noodles\")]\n",
    "\n",
    "for food in Sales:\n",
    "    buy= Eatery[food]\n",
    "    print (f\"{food}: at ${buy} was sold \")"
   ]
  },
  {
   "cell_type": "code",
   "execution_count": 68,
   "id": "9c7e57e8",
   "metadata": {},
   "outputs": [
    {
     "name": "stdout",
     "output_type": "stream",
     "text": [
      "85: in the various subjects Maths\n",
      "92: in the various subjects Science\n",
      "78: in the various subjects English\n",
      "88: in the various subjects History\n",
      "95: in the various subjects Art\n",
      "==============================\n",
      "The average score for 85 in Maths is 42.5\n",
      "The average score for 92 in Science is 46.0\n",
      "The average score for 78 in English is 39.0\n",
      "The average score for 88 in History is 44.0\n",
      "The average score for 95 in Art is 47.5\n",
      "==============================\n",
      "85: in the various subjects Maths\n",
      "92: in the various subjects Science\n",
      "78: in the various subjects English\n",
      "88: in the various subjects History\n",
      "95: in the various subjects Art\n",
      "==============================\n",
      "Average grade:87.6\n"
     ]
    }
   ],
   "source": [
    "Student_grade= {\n",
    "    \"Maths\": 85,\n",
    "    \"Science\": 92,\n",
    "    \"English\": 78,\n",
    "    \"History\": 88,\n",
    "    \"Art\": 95\n",
    "}\n",
    "\n",
    "Subjects= [(\"Maths\"), (\"Science\"), (\"English\"),(\"History\"),(\"Art\")]\n",
    "\n",
    "for sub in Subjects:\n",
    "    student= Student_grade[sub]\n",
    "    print(f\"{student}: in the various subjects {sub}\")\n",
    "\n",
    "print(\"==============================\")\n",
    "\n",
    "for sub in Subjects:\n",
    "    student= Student_grade[sub]\n",
    "    average = student / 2\n",
    "    print (f\"The average score for {student} in {sub} is {average}\")\n",
    "print(\"==============================\")\n",
    "\n",
    "total= 0\n",
    "for sub in Subjects:\n",
    "    student= Student_grade[sub]\n",
    "    print(f\"{student}: in the various subjects {sub}\")\n",
    "    total= total + student\n",
    "    \n",
    "print(\"==============================\")\n",
    "\n",
    "average= total / len(Subjects)\n",
    "print (f\"Average grade:{average}\")\n",
    "\n"
   ]
  },
  {
   "cell_type": "markdown",
   "id": "94464856",
   "metadata": {},
   "source": [
    "# CONDITIONS AND BRANCHING, LOOPS,FUNCTIONS, ESCAPE SEQUENCE, REGEX EXPRESSION"
   ]
  },
  {
   "cell_type": "code",
   "execution_count": null,
   "id": "967d7184",
   "metadata": {},
   "outputs": [
    {
     "name": "stdout",
     "output_type": "stream",
     "text": [
      "firstname, secondname, thirdname\n",
      "firstname\n",
      "secondname\n",
      "thirdname\n",
      "======================\n",
      "name:john\n",
      "age:25\n",
      "city:new york\n",
      "name:\tJohn\n",
      "age:\t25\n",
      "city:\tnew york\n",
      "======================\n",
      "This is a backlash: \\\n",
      "File path:C:\\Users\\Documents\n",
      "======================\n",
      "it's a beautiful day\n",
      "it's a beautiful day\n",
      "She said 'hello'\n",
      "She said 'hello'\n",
      "======================\n",
      "He said \"I love python\"\n",
      "He said \"I love python\"\n",
      "world\n"
     ]
    }
   ],
   "source": [
    "#Escape sequence - they always begin with a backlash \\\n",
    "\n",
    "# 1. New line \\n\n",
    "\n",
    "print (\"firstname, secondname, thirdname\")\n",
    "print(\"firstname\\nsecondname\\nthirdname\");\n",
    "\n",
    "print (\"======================\")\n",
    "\n",
    "# 2. Tab \\t - it adds a tab space \n",
    "\n",
    "print(\"name:john\")\n",
    "print(\"age:25\")\n",
    "print(\"city:new york\")\n",
    "\n",
    "print(\"name:\\tJohn\")\n",
    "print(\"age:\\t25\")\n",
    "print(\"city:\\tnew york\")\n",
    "\n",
    "print (\"======================\")\n",
    "\n",
    "# 3. Backlash \\\\ - to include an actual backlash to your work\n",
    "\n",
    "print(\"This is a backlash: \\\\\")\n",
    "print(\"File path:C:\\\\Users\\\\Documents\")\n",
    "\n",
    "print (\"======================\")\n",
    "\n",
    "#4. Single quote - \\' ti include a single quote into your text/string\n",
    "\n",
    "print(\"it's a beautiful day\")\n",
    "print (\"it\\'s a beautiful day\")\n",
    "print (\"She said \\'hello\\'\")\n",
    "print (\"She said 'hello'\")\n",
    "\n",
    "print (\"======================\")\n",
    "\n",
    "#5. Double quote - \\\" similar to the single quote \n",
    "print (\"He said \\\"I love python\\\"\")\n",
    "print (\"He said \\\"I love python\\\"\")\n"
   ]
  },
  {
   "cell_type": "code",
   "execution_count": 52,
   "id": "06567bc9",
   "metadata": {},
   "outputs": [
    {
     "name": "stdout",
     "output_type": "stream",
     "text": [
      "world i love my python\n",
      "complete process\n",
      "======================\n",
      "Comment below th space\n",
      "pythoon\n",
      "======================\n",
      "Hello\u0000World\n"
     ]
    }
   ],
   "source": [
    "#6. Carriage return - \\r - it moves the cursor to the beginning of the line\n",
    "\n",
    "print(\"Hello i love my python\\rworld\")\n",
    "print (\"Loading...... in\\rcomplete process\")\n",
    "\n",
    "print (\"======================\")\n",
    "\n",
    "#7. Backspace \\b removes the characters before it\n",
    "\n",
    "print(\"Comment below the\\b space\")\n",
    "print (\"python\\b\\b\\bon\")\n",
    "\n",
    "print (\"======================\")\n",
    "\n",
    "#8. Null Character \\0 - represents null/ empty character\n",
    "print (\"Hello\\0World\")\n",
    "\n"
   ]
  },
  {
   "cell_type": "code",
   "execution_count": null,
   "id": "9785657e",
   "metadata": {},
   "outputs": [
    {
     "name": "stdout",
     "output_type": "stream",
     "text": [
      "1\n",
      "25\n",
      "['25', '20']\n",
      "B\n",
      "see_you\n",
      "['Bye123', 'see', 'you', 'tmr']\n",
      " \n",
      "' '\n",
      "\t  \n",
      "'\\t  '\n",
      "' '\n"
     ]
    }
   ],
   "source": [
    "#REGULAR REGRESSION (REGEX)\n",
    "#They are patterns used to match and manipulate text. it comes from the re modulee\n",
    "\n",
    "import re \n",
    "#pattern = r'\\d+' or '\\\\d+' - it is used to find digits one(r'\\d') or more(r'\\d+') within your string\n",
    "\n",
    "#finding a single digit\n",
    "text= \"i have 15 apples\"\n",
    "result= re.search (r'\\d', text)\n",
    "print(result.group())\n",
    "\n",
    "#finding one or more digits\n",
    "text= \"i have 25 apples\"\n",
    "result= re.search (r'\\d+', text)\n",
    "print(result.group())\n",
    "\n",
    "#finding multiple digits\n",
    "text= \"i have 25 apples and 20 oranges\"\n",
    "result= re.findall (r'\\d+', text)\n",
    "print(result)\n",
    "\n",
    "#2. \\w or \\w+ to match any caharacter(letters, digits, underscore)\n",
    "\n",
    "#Finding first word character\n",
    "text= \"Bye123\"\n",
    "result= re.search (r'\\w', text)\n",
    "print(result.group())\n",
    "\n",
    "#finding one or more word character\n",
    "text= \"see_you soon\"\n",
    "result= re.search (r'\\w+', text)\n",
    "print(result.group())\n",
    "\n",
    "#finding all word caharacter\n",
    "text= \"Bye123 see you tmr\"\n",
    "result= re.findall (r'\\w+', text)\n",
    "print(result)\n",
    "\n",
    "#3. \\s or \\s+ matches any shitespaces , tabs or newlines\n",
    "\n",
    "#finding single whitespace\n",
    "text= \"Hello python\"\n",
    "result= re.search (r'\\s', text)\n",
    "print(result.group())\n",
    "print(repr(result.group()))\n",
    "\n",
    "#finding one or more whitespaces\n",
    "text= \"Hello\\t  python\\t  world\"\n",
    "result= re.search (r'\\s+', text)\n",
    "print(result.group())\n",
    "print(repr(result.group()))\n",
    "\n"
   ]
  },
  {
   "cell_type": "code",
   "execution_count": 103,
   "id": "cea7b09e",
   "metadata": {},
   "outputs": [
    {
     "name": "stdout",
     "output_type": "stream",
     "text": [
      "True\n",
      "False\n",
      "True\n",
      "False\n",
      "===============\n",
      "True\n",
      "False\n",
      "True\n",
      "===============\n",
      "True\n",
      "False\n",
      "False\n",
      "===============\n",
      "False\n",
      "True\n",
      "===============\n",
      "True\n",
      "True\n",
      "False\n",
      "===============\n",
      "True\n",
      "False\n"
     ]
    }
   ],
   "source": [
    "#CONDITIONAL BRANCHING (COMPARISON OPERATORS)\n",
    "\n",
    "\n",
    "# ==(equal to)\n",
    "print (5==5)\n",
    "print (5==3)\n",
    "print (\"hello\" == \"hello\")\n",
    "print (\"hello\" == \"Hello\")\n",
    "\n",
    "print (\"===============\")\n",
    "# !=(not equal to)\n",
    "print (5 != 3)\n",
    "print (5 != 5)\n",
    "print (\"cat\" != \"dog\")\n",
    "\n",
    "print (\"===============\")\n",
    "# > (greater than)\n",
    "print (10 > 5)\n",
    "print (3>7)\n",
    "print (5 >5)\n",
    "\n",
    "print (\"===============\")\n",
    "# < (less than)\n",
    "print (10 < 5)\n",
    "print (5<6)\n",
    "\n",
    "print (\"===============\")\n",
    "# >=(greater than or equal to)\n",
    "\n",
    "print (10>=5) # uses logic statement \"or\"\n",
    "print (5>=5)\n",
    "print (3>=7) # it neither falls into any category\n",
    "\n",
    "print (\"===============\")\n",
    "# <= (less than or equal to)\n",
    "print (3<=7)\n",
    "print (7<=3)\n",
    "\n"
   ]
  },
  {
   "cell_type": "code",
   "execution_count": 109,
   "id": "41944699",
   "metadata": {},
   "outputs": [
    {
     "name": "stdout",
     "output_type": "stream",
     "text": [
      "True\n",
      "False\n"
     ]
    }
   ],
   "source": [
    "#Age comaprison \n",
    "\n",
    "my_age= 25\n",
    "print(my_age>=18)\n",
    "\n",
    "item_price= 50\n",
    "budget= 60\n",
    "print (item_price >= budget)"
   ]
  },
  {
   "cell_type": "code",
   "execution_count": 114,
   "id": "0ff1720e",
   "metadata": {},
   "outputs": [
    {
     "name": "stdout",
     "output_type": "stream",
     "text": [
      "Eligible to vote\n",
      "Acess granted\n",
      "welcome\n"
     ]
    }
   ],
   "source": [
    "#IF STATEMENT \n",
    "\n",
    "age= 18\n",
    "if age >=18:\n",
    "    print (\"Eligible to vote\")\n",
    "\n",
    "password =\"secret123\"\n",
    "if password == \"secret123\":\n",
    "    print('Acess granted')\n",
    "    print (\"welcome\")"
   ]
  },
  {
   "cell_type": "code",
   "execution_count": 125,
   "id": "4c06561d",
   "metadata": {},
   "outputs": [
    {
     "name": "stdout",
     "output_type": "stream",
     "text": [
      "Ineligible to vote\n",
      "the num is even\n",
      "Congratulations, you passed the test\n"
     ]
    }
   ],
   "source": [
    "#IF ELSE STATEMENT\n",
    "\n",
    "age= 14\n",
    "if age >= 18:\n",
    "    print (\"Eligible to vote\")\n",
    "\n",
    "else:\n",
    "    print (\"Ineligible to vote\")\n",
    "\n",
    "num = 10\n",
    "if num %2 ==0: # it means if it is divisible by 2 without reminder\n",
    "    print(\"the num is even\")\n",
    "\n",
    "else:\n",
    "    print (\"the number is odd\")\n",
    "\n",
    "\n",
    "score = 87\n",
    "A= 70\n",
    "if score >= A:\n",
    "    print (\"Congratulations, you passed the test\")\n",
    "else: \n",
    "    print (\"sorry, you failed the test\")"
   ]
  },
  {
   "cell_type": "code",
   "execution_count": null,
   "id": "d5f84cab",
   "metadata": {},
   "outputs": [
    {
     "name": "stdout",
     "output_type": "stream",
     "text": [
      "Grade: F, you failed\n",
      "Slow down\n",
      "you are an adult\n"
     ]
    }
   ],
   "source": [
    "# IF- ELIF ELSE STATEMENT used when you want to check multiple conditions, not just two\n",
    "\n",
    "\n",
    "score = 55\n",
    "\n",
    "if score >= 90:\n",
    "    print (\"Grade:A, Excellent work\")\n",
    "\n",
    "elif score >= 80:\n",
    "    print (\"Grade:B, Good Job\")\n",
    "\n",
    "elif score >= 70:\n",
    "    print (\"Grade:C, You passed\")\n",
    "\n",
    "else:\n",
    "    print (\"Grade: F, you failed\") \n",
    "\n",
    "\n",
    "colour = \"yellow\"\n",
    "\n",
    "if colour == \"green\":\n",
    "    print (\"Go\")\n",
    "\n",
    "elif colour == \"yellow\":\n",
    "    print (\"Slow down\")\n",
    "\n",
    "elif colour == \"red\":\n",
    "    print (\"Stop\")\n",
    "\n",
    "else:\n",
    "    print (\"invalid colour\")\n",
    "\n",
    "\n",
    "\n",
    "age = 35\n",
    "if age< 13:\n",
    "    print (\"you are a child\")\n",
    "\n",
    "elif age <20:\n",
    "    print (\" you are a teenager\")\n",
    "elif age <60:\n",
    "    print (\"you are an adult\")\n",
    "else:\n",
    "    print (\"you are an elder\")"
   ]
  },
  {
   "cell_type": "code",
   "execution_count": 155,
   "id": "3abac7f5",
   "metadata": {},
   "outputs": [
    {
     "name": "stdout",
     "output_type": "stream",
     "text": [
      "You are old enough to drive\n",
      "you can drive legally,have a safe trip!\n",
      "====================\n",
      "it's a sunny day\n",
      "perfect for a swim, don't forget suncreen\n",
      "==========================\n",
      "you have enough money\n",
      "item is in stock\n",
      "purchase successful\n",
      "you have $20 left\n"
     ]
    }
   ],
   "source": [
    "#NESTED IF STATEMENTS putting an if statement inside another\n",
    "\n",
    "#age and license check\n",
    "\n",
    "age = 20\n",
    "has_license= True\n",
    "\n",
    "if age >=18:\n",
    "    print (\"You are old enough to drive\")\n",
    "    if has_license:\n",
    "        print (\"you can drive legally,have a safe trip!\")\n",
    "    else:\n",
    "        print (\"You need a license first, please get a license\")\n",
    "else:\n",
    "    print (\"you are too young to drive, wait until you turn 18 \")\n",
    "\n",
    "print (\"====================\")\n",
    "#Weather and activity\n",
    "\n",
    "weather= \"sunny\"\n",
    "temp=25\n",
    "\n",
    "if weather == \"sunny\":\n",
    "    print(\"it\\'s a sunny day\")\n",
    "    if temp > 20:\n",
    "        print (\"perfect for a swim, don\\'t forget suncreen\")\n",
    "    else: \n",
    "        print (\"a bit cool for a swim, maybe go for a walk\")\n",
    "else: \n",
    "    print (\"Not a sunny day, stay indoors\")\n",
    "\n",
    "print (\"==========================\")\n",
    "\n",
    "#Shopping Budget\n",
    "\n",
    "money = 100\n",
    "item_price= 80\n",
    "item_available= True\n",
    "\n",
    "if money >= item_price:\n",
    "    print (\"you have enough money\")\n",
    "    if item_available:\n",
    "        print (\"item is in stock\")\n",
    "        print (\"purchase successful\")\n",
    "        remaining= money - item_price\n",
    "        print (f\"you have ${remaining} left\")\n",
    "\n",
    "    else:\n",
    "        print (\"sorry, item is out of stock\")\n",
    "\n",
    "else:\n",
    "    print (\"not enough money\")\n",
    "    needed= item_price- money\n",
    "    print (f\"you need ${needed} more\")\n",
    "\n"
   ]
  },
  {
   "cell_type": "code",
   "execution_count": 177,
   "id": "385c7cb5",
   "metadata": {},
   "outputs": [
    {
     "name": "stdout",
     "output_type": "stream",
     "text": [
      "you can apply for a loan\n",
      "=======================\n",
      "you can apply for a loan\n",
      "======================\n",
      "its the weekend\n",
      "================\n",
      "lets go for a walk\n",
      "===================\n",
      "perfect weather for a walk\n"
     ]
    }
   ],
   "source": [
    "#LOGICAL OPERATORS (CONDITIONAL BRANCHING)\n",
    "\n",
    "#And statement - both conditions must be true\n",
    "\n",
    "age = 25\n",
    "has_job= True\n",
    "\n",
    "if age >= 18 and has_job:\n",
    "    print (\"you can apply for a loan\")\n",
    "\n",
    "print (\"=======================\")\n",
    "\n",
    "#Or statement - at least one condition must be true\n",
    "age = 12\n",
    "has_job= True\n",
    "\n",
    "if age >= 18 or has_job:\n",
    "    print (\"you can apply for a loan\")\n",
    "\n",
    "print (\"======================\")\n",
    "Day = \"saturday\"\n",
    "if Day == \"saturday\" or Day ==\"!saturday\":\n",
    "    print (\"its the weekend\")\n",
    "\n",
    "print (\"================\")\n",
    "#Not statement - flips true to false and false to true\n",
    "\n",
    "is_raining = False\n",
    "\n",
    "if not is_raining:\n",
    "    print (\"lets go for a walk\")\n",
    "\n",
    "else:\n",
    "    print (\"stay indoors\")\n",
    "\n",
    "print (\"===================\")\n",
    "#Complex conditions\n",
    "\n",
    "temp=22\n",
    "is_sunny= True\n",
    "has_umbrella=False\n",
    "\n",
    "if temp >15 and is_sunny and not has_umbrella:\n",
    "    print (\"perfect weather for a walk\")\n",
    "\n",
    "else:\n",
    "    print (\"grab an umbrella\")\n",
    "\n",
    "\n"
   ]
  },
  {
   "cell_type": "code",
   "execution_count": 181,
   "id": "aa0fb096",
   "metadata": {},
   "outputs": [
    {
     "name": "stdout",
     "output_type": "stream",
     "text": [
      "Name: Asemota Omo Otasowie\n",
      "Age: 24 years old\n",
      "file path:C:\\users\\documents\\file.txt\n",
      "Name:\tJohn\n",
      "Age:\t25\n",
      "City:\tNew York\n"
     ]
    }
   ],
   "source": [
    "#Practice work\n",
    "\n",
    "print (\"Name: Asemota Omo Otasowie\\nAge: 24 years old\")\n",
    "print (\"file path:C:\\\\users\\\\documents\\\\file.txt\")\n",
    "\n",
    "print(\"Name:\\tJohn\")\n",
    "print(\"Age:\\t25\")\n",
    "print(\"City:\\tNew York\")"
   ]
  },
  {
   "cell_type": "code",
   "execution_count": null,
   "id": "d223f5e6",
   "metadata": {},
   "outputs": [
    {
     "name": "stdout",
     "output_type": "stream",
     "text": [
      "['5', '12', '17']\n",
      "['Helo', 'world', 'python', 'programming']\n"
     ]
    }
   ],
   "source": [
    "import re\n",
    "\n",
    "text= \"i bought 5 apples and 12 oranges for $17\"\n",
    "result=re.findall(r'\\d+', text)\n",
    "print (result)\n",
    "\n",
    "\n",
    "text= \"Helo world python\\n programming\"\n",
    "result= re.findall(r'\\w+', text)\n",
    "print (result) \n",
    "\n",
    "#r'\\s+' locates the whitespace pattern between word characters(tab, newline etc)"
   ]
  },
  {
   "cell_type": "code",
   "execution_count": 193,
   "id": "9a611fb0",
   "metadata": {},
   "outputs": [
    {
     "name": "stdout",
     "output_type": "stream",
     "text": [
      "True\n",
      "False\n",
      "True\n",
      "False\n"
     ]
    }
   ],
   "source": [
    "print(15 >=15);\n",
    "print(\"hello\"==\"Hello\");\n",
    "print(10 !=5);\n",
    "print(7<3);"
   ]
  },
  {
   "cell_type": "code",
   "execution_count": 198,
   "id": "2defa692",
   "metadata": {},
   "outputs": [
    {
     "name": "stdout",
     "output_type": "stream",
     "text": [
      "GRADE: F\n",
      "Legalized to drive\n",
      "Need a license\n"
     ]
    }
   ],
   "source": [
    "grade= 65\n",
    "\n",
    "if grade >=90:\n",
    "    print (\"GRADE:A\")\n",
    "elif grade >= 80:\n",
    "    print (\"GRADE:B\")\n",
    "elif grade >70:\n",
    "    print (\"GRADE: C\")\n",
    "else:\n",
    "    print (\"GRADE: F\")\n",
    "\n",
    "\n",
    "age= 21\n",
    "has_license= False\n",
    "\n",
    "if age >= 18:\n",
    "    print (\"Legalized to drive\")\n",
    "    if has_license:\n",
    "        print (\"allowed to drive\")\n",
    "    else: \n",
    "        print(\"Need a license\")\n",
    "else:\n",
    "    print (\"too young\")"
   ]
  },
  {
   "cell_type": "code",
   "execution_count": 209,
   "id": "c9b779dd",
   "metadata": {},
   "outputs": [
    {
     "name": "stdout",
     "output_type": "stream",
     "text": [
      "its a beautiful day\n",
      "Go outside\n",
      "Logically correct\n"
     ]
    }
   ],
   "source": [
    "day= \"Sunday\"\n",
    "is_sunny= True\n",
    "\n",
    "if day == \"sunday\" or \"saturday\" and is_sunny:\n",
    "    print (\"its a beautiful day\")\n",
    "\n",
    "else:\n",
    "    print (\"its a cloudy day\")\n",
    "\n",
    "is_raining = False\n",
    "\n",
    "if not is_raining:\n",
    "    print (\"Go outside\")\n",
    "\n",
    "x= 5\n",
    "y= 10\n",
    "\n",
    "if x > 3 and y < 15 or not x:\n",
    "    print (\"Logically correct\")\n",
    "else:\n",
    "    print (\"Not logically correct\")\n"
   ]
  }
 ],
 "metadata": {
  "kernelspec": {
   "display_name": "Python 3",
   "language": "python",
   "name": "python3"
  },
  "language_info": {
   "codemirror_mode": {
    "name": "ipython",
    "version": 3
   },
   "file_extension": ".py",
   "mimetype": "text/x-python",
   "name": "python",
   "nbconvert_exporter": "python",
   "pygments_lexer": "ipython3",
   "version": "3.13.0"
  }
 },
 "nbformat": 4,
 "nbformat_minor": 5
}
